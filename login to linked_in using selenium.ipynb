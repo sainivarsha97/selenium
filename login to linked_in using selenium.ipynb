{
 "cells": [
  {
   "cell_type": "code",
   "execution_count": 63,
   "metadata": {},
   "outputs": [],
   "source": [
    "from selenium import webdriver \n",
    "import time\n",
    "import os\n"
   ]
  },
  {
   "cell_type": "code",
   "execution_count": 65,
   "metadata": {},
   "outputs": [],
   "source": [
    "chromedriver=webdriver.Chrome(executable_path='C:\\\\selenium\\\\chromedriver.exe')"
   ]
  },
  {
   "cell_type": "code",
   "execution_count": 66,
   "metadata": {},
   "outputs": [],
   "source": [
    "def login_in(url,myemail,mypassword):\n",
    "    \n",
    "    chromedriver.get(url)\n",
    "    email=chromedriver.find_element_by_id(\"login-email\")\n",
    "    email.send_keys(myemail)\n",
    "                                         \n",
    "    password=chromedriver.find_element_by_id(\"login-password\")\n",
    "    password.send_keys(mypassword)\n",
    "                                            \n",
    "    sign_in=chromedriver.find_element_by_id(\"login-submit\")\n",
    "    sign_in.click()\n",
    "    time.sleep(10)"
   ]
  },
  {
   "cell_type": "code",
   "execution_count": null,
   "metadata": {},
   "outputs": [],
   "source": [
    "url=\"https://www.linkedin.com\"\n",
    "username=input(\"Enter username \")\n",
    "password=input(\"Enter password \")\n",
    "login_in(url,username,password)"
   ]
  }
 ],
 "metadata": {
  "kernelspec": {
   "display_name": "Python 3",
   "language": "python",
   "name": "python3"
  },
  "language_info": {
   "codemirror_mode": {
    "name": "ipython",
    "version": 3
   },
   "file_extension": ".py",
   "mimetype": "text/x-python",
   "name": "python",
   "nbconvert_exporter": "python",
   "pygments_lexer": "ipython3",
   "version": "3.7.0"
  }
 },
 "nbformat": 4,
 "nbformat_minor": 2
}
